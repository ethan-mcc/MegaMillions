{
 "cells": [
  {
   "cell_type": "code",
   "execution_count": 1,
   "id": "9cc52d38-3851-47da-9c5e-187f280f3a5b",
   "metadata": {
    "tags": []
   },
   "outputs": [
    {
     "name": "stdout",
     "output_type": "stream",
     "text": [
      "Test Accuracy: 0.08056872037914692\n"
     ]
    }
   ],
   "source": [
    "import pandas as pd\n",
    "import sqlite3\n",
    "from sklearn.ensemble import RandomForestClassifier\n",
    "from sklearn.model_selection import train_test_split\n",
    "from sklearn.metrics import accuracy_score\n",
    "\n",
    "# Connect to the SQLite database for training data\n",
    "train_conn = sqlite3.connect('MegaMillions_Train.db')\n",
    "\n",
    "# Query data from the database for training\n",
    "query_train = \"SELECT * FROM Interval_Data\"\n",
    "df_train = pd.read_sql_query(query_train, train_conn)\n",
    "\n",
    "# Preprocess 'Draw Date' into separate day, month, and year columns for training data\n",
    "df_train['Draw Date'] = pd.to_datetime(df_train['Draw Date'])\n",
    "df_train['Day'] = df_train['Draw Date'].dt.day\n",
    "df_train['Month'] = df_train['Draw Date'].dt.month\n",
    "df_train['Year'] = df_train['Draw Date'].dt.year\n",
    "\n",
    "# Preprocess 'Winning Numbers' for training data - Assuming they are space-separated numbers\n",
    "winning_numbers_train = df_train['Winning Numbers'].str.split(' ', expand=True).astype(int)\n",
    "winning_numbers_train.columns = [f'Number_{i+1}' for i in range(winning_numbers_train.shape[1])]\n",
    "\n",
    "# Combine processed columns with the original DataFrame for training data\n",
    "df_train_processed = pd.concat([df_train, winning_numbers_train], axis=1)\n",
    "\n",
    "# Define features (X_train) and target variable (y_train) for training\n",
    "X_train = df_train_processed[['Day', 'Month', 'Year', 'Multiplier', 'Number_1', 'Number_2', 'Number_3', 'Number_4', 'Number_5']]\n",
    "y_train = df_train_processed['Mega Ball']\n",
    "\n",
    "# Initialize and train the random forest classifier for training data\n",
    "clf = RandomForestClassifier(n_estimators=10000, random_state=42, max_depth=32)\n",
    "clf.fit(X_train, y_train)\n",
    "\n",
    "# Disconnect from the training data SQLite database\n",
    "train_conn.close()\n",
    "\n",
    "# Connect to the SQLite database for test data\n",
    "test_conn = sqlite3.connect('MegaMillions_Test.db')\n",
    "\n",
    "# Query data from the database for test\n",
    "query_test = \"SELECT * FROM Interval_Data\"\n",
    "df_test = pd.read_sql_query(query_test, test_conn)\n",
    "\n",
    "# Preprocess 'Draw Date' into separate day, month, and year columns for test data\n",
    "df_test['Draw Date'] = pd.to_datetime(df_test['Draw Date'])\n",
    "df_test['Day'] = df_test['Draw Date'].dt.day\n",
    "df_test['Month'] = df_test['Draw Date'].dt.month\n",
    "df_test['Year'] = df_test['Draw Date'].dt.year\n",
    "\n",
    "# Preprocess 'Winning Numbers' for test data - Assuming they are space-separated numbers\n",
    "winning_numbers_test = df_test['Winning Numbers'].str.split(' ', expand=True).astype(int)\n",
    "winning_numbers_test.columns = [f'Number_{i+1}' for i in range(winning_numbers_test.shape[1])]\n",
    "\n",
    "# Combine processed columns with the original DataFrame for test data\n",
    "df_test_processed = pd.concat([df_test, winning_numbers_test], axis=1)\n",
    "\n",
    "# Define features (X_test) for the test set\n",
    "X_test_processed = df_test_processed[['Day', 'Month', 'Year', 'Multiplier', 'Number_1', 'Number_2', 'Number_3', 'Number_4', 'Number_5']]\n",
    "\n",
    "# Assuming you have y_test values in the test dataset\n",
    "# Replace 'y_test_values_column' with the actual column containing the Mega Ball values in your test data\n",
    "y_test_values = df_test_processed['Mega Ball']\n",
    "\n",
    "# Predict on the test set (X_test_processed) using the trained classifier (clf)\n",
    "predictions_test = clf.predict(X_test_processed)\n",
    "\n",
    "# Evaluate accuracy for the test set (if y_test_values are available)\n",
    "accuracy_test = accuracy_score(y_test_values, predictions_test)\n",
    "print(f\"Test Accuracy: {accuracy_test}\")\n",
    "\n",
    "# Disconnect from the test data SQLite database\n",
    "test_conn.close()"
   ]
  },
  {
   "cell_type": "code",
   "execution_count": null,
   "id": "a08e5cf3-c9a2-481c-aef9-dd9d3439cade",
   "metadata": {},
   "outputs": [],
   "source": []
  },
  {
   "cell_type": "code",
   "execution_count": null,
   "id": "2b9e221a-1584-4429-b2e1-997ef848403d",
   "metadata": {},
   "outputs": [],
   "source": []
  }
 ],
 "metadata": {
  "kernelspec": {
   "display_name": "Python 3 (ipykernel)",
   "language": "python",
   "name": "python3"
  },
  "language_info": {
   "codemirror_mode": {
    "name": "ipython",
    "version": 3
   },
   "file_extension": ".py",
   "mimetype": "text/x-python",
   "name": "python",
   "nbconvert_exporter": "python",
   "pygments_lexer": "ipython3",
   "version": "3.9.13"
  }
 },
 "nbformat": 4,
 "nbformat_minor": 5
}
