{
 "cells": [
  {
   "cell_type": "code",
   "execution_count": 16,
   "id": "6ed1a66c-0911-4b16-98d1-21429fdb1e22",
   "metadata": {
    "tags": []
   },
   "outputs": [],
   "source": [
    "import pandas as pd\n",
    "import numpy as np\n",
    "import sqlite3"
   ]
  },
  {
   "cell_type": "code",
   "execution_count": 20,
   "id": "83ea3ffa-aa49-4848-8d75-0ae83688a999",
   "metadata": {
    "tags": []
   },
   "outputs": [
    {
     "name": "stdout",
     "output_type": "stream",
     "text": [
      "Database created successfully and validated.\n"
     ]
    }
   ],
   "source": [
    "# Read the CSV file\n",
    "file_path = 'Mega_Millions.csv'\n",
    "data = pd.read_csv(file_path)\n",
    "\n",
    "# Function to check if winning numbers are within the valid range using NumPy\n",
    "def validate_numbers(numbers):\n",
    "    num_array = np.array([int(num) for num in numbers.split()])\n",
    "    return np.all((num_array >= 1) & (num_array <= 70))\n",
    "\n",
    "# Function to check if the Mega Ball is within the valid range using NumPy\n",
    "def validate_mega_ball(ball):\n",
    "    return 1 <= ball <= 25\n",
    "\n",
    "# Filter rows where the numbers are not within the valid range\n",
    "valid_data = data[\n",
    "    data['Winning Numbers'].apply(validate_numbers) &\n",
    "    data['Mega Ball'].apply(validate_mega_ball)\n",
    "]\n",
    "\n",
    "# Create a SQLite connection and cursor\n",
    "conn = sqlite3.connect('MegaMillions.db')\n",
    "cursor = conn.cursor()\n",
    "\n",
    "# Create a table in the database\n",
    "create_table_query = '''\n",
    "CREATE TABLE IF NOT EXISTS MegaMillions (\n",
    "    \"Draw Date\" TEXT,\n",
    "    \"Winning Numbers\" TEXT,\n",
    "    \"Mega Ball\" INTEGER,\n",
    "    \"Multiplier\" INTEGER\n",
    ")\n",
    "'''\n",
    "cursor.execute(create_table_query)\n",
    "\n",
    "# Insert valid data into the database\n",
    "for index, row in valid_data.iterrows():\n",
    "    draw_date = row['Draw Date']\n",
    "    winning_numbers = row['Winning Numbers']\n",
    "    mega_ball = row['Mega Ball']\n",
    "    multiplier = row['Multiplier']\n",
    "    \n",
    "    if pd.isna(multiplier):\n",
    "        continue\n",
    "        \n",
    "    \n",
    "    insert_query = '''\n",
    "    INSERT INTO MegaMillions (\"Draw Date\", \"Winning Numbers\", \"Mega Ball\", \"Multiplier\")\n",
    "    VALUES (?, ?, ?, ?)\n",
    "    '''\n",
    "    cursor.execute(insert_query, (draw_date, winning_numbers, mega_ball, multiplier))\n",
    "\n",
    "# Commit changes and close the connection\n",
    "conn.commit()\n",
    "conn.close()\n",
    "\n",
    "print(\"Database created successfully and validated.\")\n"
   ]
  },
  {
   "cell_type": "code",
   "execution_count": null,
   "id": "7041176b-d229-431c-8948-ee87a03c0926",
   "metadata": {},
   "outputs": [],
   "source": []
  }
 ],
 "metadata": {
  "kernelspec": {
   "display_name": "Python 3 (ipykernel)",
   "language": "python",
   "name": "python3"
  },
  "language_info": {
   "codemirror_mode": {
    "name": "ipython",
    "version": 3
   },
   "file_extension": ".py",
   "mimetype": "text/x-python",
   "name": "python",
   "nbconvert_exporter": "python",
   "pygments_lexer": "ipython3",
   "version": "3.9.13"
  }
 },
 "nbformat": 4,
 "nbformat_minor": 5
}
