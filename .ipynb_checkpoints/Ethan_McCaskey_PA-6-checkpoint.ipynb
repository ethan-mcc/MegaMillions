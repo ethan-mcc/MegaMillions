{
 "cells": [
  {
   "cell_type": "markdown",
   "id": "b0ad7f53-3709-4fa7-b940-31fc750a9407",
   "metadata": {},
   "source": [
    "Ethan McCaskey"
   ]
  },
  {
   "cell_type": "code",
   "execution_count": 57,
   "id": "c6b0350f-ad24-4b9e-a391-c159ad3e6830",
   "metadata": {},
   "outputs": [],
   "source": [
    "import pandas as pd"
   ]
  },
  {
   "cell_type": "markdown",
   "id": "2ce674f3-0607-4e1b-a7c5-37df69af8f4c",
   "metadata": {},
   "source": [
    "1. Read the data from the CSV file into a DataFrame and display the first five rows"
   ]
  },
  {
   "cell_type": "code",
   "execution_count": 58,
   "id": "e48573b7-08c4-4ea0-8203-4d7ecfebbb41",
   "metadata": {},
   "outputs": [
    {
     "data": {
      "text/html": [
       "<div>\n",
       "<style scoped>\n",
       "    .dataframe tbody tr th:only-of-type {\n",
       "        vertical-align: middle;\n",
       "    }\n",
       "\n",
       "    .dataframe tbody tr th {\n",
       "        vertical-align: top;\n",
       "    }\n",
       "\n",
       "    .dataframe thead th {\n",
       "        text-align: right;\n",
       "    }\n",
       "</style>\n",
       "<table border=\"1\" class=\"dataframe\">\n",
       "  <thead>\n",
       "    <tr style=\"text-align: right;\">\n",
       "      <th></th>\n",
       "      <th>Unnamed: 0</th>\n",
       "      <th>Date</th>\n",
       "      <th>AveragePrice</th>\n",
       "      <th>Total Volume</th>\n",
       "      <th>4046</th>\n",
       "      <th>4225</th>\n",
       "      <th>4770</th>\n",
       "      <th>Total Bags</th>\n",
       "      <th>Small Bags</th>\n",
       "      <th>Large Bags</th>\n",
       "      <th>XLarge Bags</th>\n",
       "      <th>type</th>\n",
       "      <th>year</th>\n",
       "      <th>region</th>\n",
       "    </tr>\n",
       "  </thead>\n",
       "  <tbody>\n",
       "    <tr>\n",
       "      <th>0</th>\n",
       "      <td>0</td>\n",
       "      <td>2015-12-27</td>\n",
       "      <td>1.33</td>\n",
       "      <td>64236.62</td>\n",
       "      <td>1036.74</td>\n",
       "      <td>54454.85</td>\n",
       "      <td>48.16</td>\n",
       "      <td>8696.87</td>\n",
       "      <td>8603.62</td>\n",
       "      <td>93.25</td>\n",
       "      <td>0.0</td>\n",
       "      <td>conventional</td>\n",
       "      <td>2015</td>\n",
       "      <td>Albany</td>\n",
       "    </tr>\n",
       "    <tr>\n",
       "      <th>1</th>\n",
       "      <td>1</td>\n",
       "      <td>2015-12-20</td>\n",
       "      <td>1.35</td>\n",
       "      <td>54876.98</td>\n",
       "      <td>674.28</td>\n",
       "      <td>44638.81</td>\n",
       "      <td>58.33</td>\n",
       "      <td>9505.56</td>\n",
       "      <td>9408.07</td>\n",
       "      <td>97.49</td>\n",
       "      <td>0.0</td>\n",
       "      <td>conventional</td>\n",
       "      <td>2015</td>\n",
       "      <td>Albany</td>\n",
       "    </tr>\n",
       "    <tr>\n",
       "      <th>2</th>\n",
       "      <td>2</td>\n",
       "      <td>2015-12-13</td>\n",
       "      <td>0.93</td>\n",
       "      <td>118220.22</td>\n",
       "      <td>794.70</td>\n",
       "      <td>109149.67</td>\n",
       "      <td>130.50</td>\n",
       "      <td>8145.35</td>\n",
       "      <td>8042.21</td>\n",
       "      <td>103.14</td>\n",
       "      <td>0.0</td>\n",
       "      <td>conventional</td>\n",
       "      <td>2015</td>\n",
       "      <td>Albany</td>\n",
       "    </tr>\n",
       "    <tr>\n",
       "      <th>3</th>\n",
       "      <td>3</td>\n",
       "      <td>2015-12-06</td>\n",
       "      <td>1.08</td>\n",
       "      <td>78992.15</td>\n",
       "      <td>1132.00</td>\n",
       "      <td>71976.41</td>\n",
       "      <td>72.58</td>\n",
       "      <td>5811.16</td>\n",
       "      <td>5677.40</td>\n",
       "      <td>133.76</td>\n",
       "      <td>0.0</td>\n",
       "      <td>conventional</td>\n",
       "      <td>2015</td>\n",
       "      <td>Albany</td>\n",
       "    </tr>\n",
       "    <tr>\n",
       "      <th>4</th>\n",
       "      <td>4</td>\n",
       "      <td>2015-11-29</td>\n",
       "      <td>1.28</td>\n",
       "      <td>51039.60</td>\n",
       "      <td>941.48</td>\n",
       "      <td>43838.39</td>\n",
       "      <td>75.78</td>\n",
       "      <td>6183.95</td>\n",
       "      <td>5986.26</td>\n",
       "      <td>197.69</td>\n",
       "      <td>0.0</td>\n",
       "      <td>conventional</td>\n",
       "      <td>2015</td>\n",
       "      <td>Albany</td>\n",
       "    </tr>\n",
       "  </tbody>\n",
       "</table>\n",
       "</div>"
      ],
      "text/plain": [
       "   Unnamed: 0        Date  AveragePrice  Total Volume     4046       4225  \\\n",
       "0           0  2015-12-27          1.33      64236.62  1036.74   54454.85   \n",
       "1           1  2015-12-20          1.35      54876.98   674.28   44638.81   \n",
       "2           2  2015-12-13          0.93     118220.22   794.70  109149.67   \n",
       "3           3  2015-12-06          1.08      78992.15  1132.00   71976.41   \n",
       "4           4  2015-11-29          1.28      51039.60   941.48   43838.39   \n",
       "\n",
       "     4770  Total Bags  Small Bags  Large Bags  XLarge Bags          type  \\\n",
       "0   48.16     8696.87     8603.62       93.25          0.0  conventional   \n",
       "1   58.33     9505.56     9408.07       97.49          0.0  conventional   \n",
       "2  130.50     8145.35     8042.21      103.14          0.0  conventional   \n",
       "3   72.58     5811.16     5677.40      133.76          0.0  conventional   \n",
       "4   75.78     6183.95     5986.26      197.69          0.0  conventional   \n",
       "\n",
       "   year  region  \n",
       "0  2015  Albany  \n",
       "1  2015  Albany  \n",
       "2  2015  Albany  \n",
       "3  2015  Albany  \n",
       "4  2015  Albany  "
      ]
     },
     "execution_count": 58,
     "metadata": {},
     "output_type": "execute_result"
    }
   ],
   "source": [
    "# Read file root dir 'avocado.csv'\n",
    "file = 'avocado.csv'\n",
    "data_frame = pd.read_csv(file)\n",
    "data_frame.head()"
   ]
  },
  {
   "cell_type": "markdown",
   "id": "975f240d-bd96-46c2-b220-b859a8e90794",
   "metadata": {},
   "source": [
    "2. Check to see if any of the columns have missing values"
   ]
  },
  {
   "cell_type": "code",
   "execution_count": 59,
   "id": "cc8367b5-eeac-480c-8c5d-fca05ae6ef02",
   "metadata": {},
   "outputs": [
    {
     "name": "stdout",
     "output_type": "stream",
     "text": [
      "No missing values!\n"
     ]
    }
   ],
   "source": [
    "na_columns = data_frame.isna().sum()\n",
    "# Check if there is any missing values. \n",
    "print('No missing values!' if na_columns.sum() == 0 else 'Missing values!')"
   ]
  },
  {
   "cell_type": "markdown",
   "id": "3d02d6f6-cafd-484a-82b0-b3b6aa941f27",
   "metadata": {},
   "source": [
    "3. Display the unique values in the region column, and notice that one of the regions is TotalUS"
   ]
  },
  {
   "cell_type": "code",
   "execution_count": 60,
   "id": "99d91cb5-4afa-409e-9b94-399b1ae97266",
   "metadata": {},
   "outputs": [
    {
     "name": "stdout",
     "output_type": "stream",
     "text": [
      "The unique regions are:\n",
      "\n",
      "- Albany\n",
      "- Atlanta\n",
      "- BaltimoreWashington\n",
      "- Boise\n",
      "- Boston\n",
      "- BuffaloRochester\n",
      "- California\n",
      "- Charlotte\n",
      "- Chicago\n",
      "- CincinnatiDayton\n",
      "- Columbus\n",
      "- DallasFtWorth\n",
      "- Denver\n",
      "- Detroit\n",
      "- GrandRapids\n",
      "- GreatLakes\n",
      "- HarrisburgScranton\n",
      "- HartfordSpringfield\n",
      "- Houston\n",
      "- Indianapolis\n",
      "- Jacksonville\n",
      "- LasVegas\n",
      "- LosAngeles\n",
      "- Louisville\n",
      "- MiamiFtLauderdale\n",
      "- Midsouth\n",
      "- Nashville\n",
      "- NewOrleansMobile\n",
      "- NewYork\n",
      "- Northeast\n",
      "- NorthernNewEngland\n",
      "- Orlando\n",
      "- Philadelphia\n",
      "- PhoenixTucson\n",
      "- Pittsburgh\n",
      "- Plains\n",
      "- Portland\n",
      "- RaleighGreensboro\n",
      "- RichmondNorfolk\n",
      "- Roanoke\n",
      "- Sacramento\n",
      "- SanDiego\n",
      "- SanFrancisco\n",
      "- Seattle\n",
      "- SouthCarolina\n",
      "- SouthCentral\n",
      "- Southeast\n",
      "- Spokane\n",
      "- StLouis\n",
      "- Syracuse\n",
      "- Tampa\n",
      "- TotalUS\n",
      "- West\n",
      "- WestTexNewMexico\n"
     ]
    }
   ],
   "source": [
    "unique_regions = data_frame['region'].unique()\n",
    "# Little unpacking, see the unique regions nicely. \n",
    "print(f'The unique regions are:\\n', *unique_regions, sep=\"\\n- \")"
   ]
  },
  {
   "cell_type": "markdown",
   "id": "d7d33d80-5462-4cd9-8eea-f115a5c2b1b4",
   "metadata": {},
   "source": [
    "4. Drop rows that have a region of TotalUS, and then check to see how many rows were dropped"
   ]
  },
  {
   "cell_type": "code",
   "execution_count": 61,
   "id": "a530e0f4-eeda-4c0d-abb1-9ec4bea88086",
   "metadata": {},
   "outputs": [
    {
     "name": "stdout",
     "output_type": "stream",
     "text": [
      "Number of dropped: 338\n"
     ]
    }
   ],
   "source": [
    "rows_count = data_frame.shape[0]\n",
    "# Drop the rows that have the region of TotalUS\n",
    "data_frame = data_frame.drop(data_frame[data_frame['region'] == 'TotalUS'].index)\n",
    "final_rows_count = data_frame.shape[0]\n",
    "# Calculate the number of dropped columns.\n",
    "dropped_count = rows_count - final_rows_count\n",
    "print(f'Number of dropped: {dropped_count}')"
   ]
  },
  {
   "cell_type": "markdown",
   "id": "eb357526-44da-4696-9276-ab8c32b1e877",
   "metadata": {},
   "source": [
    "5. Drop the Unnamed: 0, 4046, 4225, and 4770 columns"
   ]
  },
  {
   "cell_type": "code",
   "execution_count": 62,
   "id": "ba3808dc-36aa-471d-8a44-361b2f27c352",
   "metadata": {},
   "outputs": [
    {
     "name": "stdout",
     "output_type": "stream",
     "text": [
      "Dropped columns:\n",
      "- Unnamed: 0\n",
      "- 4046\n",
      "- 4225\n",
      "- 4770\n"
     ]
    }
   ],
   "source": [
    "# I was confused it's actually called 'Unnamed: 0', haha. \n",
    "drop_columns = ['Unnamed: 0', '4046', '4225', '4770']\n",
    "data_frame.drop(columns=drop_columns, inplace=True)\n",
    "print('Dropped columns:', *drop_columns, sep='\\n- ')"
   ]
  },
  {
   "cell_type": "markdown",
   "id": "0078815d-bda2-424c-a874-2d36c4df3e4b",
   "metadata": {},
   "source": [
    "6. Convert the Date column to the DateTime type"
   ]
  },
  {
   "cell_type": "code",
   "execution_count": 63,
   "id": "3582617a-5d12-4079-b4b2-650542578e58",
   "metadata": {},
   "outputs": [
    {
     "name": "stdout",
     "output_type": "stream",
     "text": [
      "Converted to DateTime type!\n"
     ]
    }
   ],
   "source": [
    "# The classic..\n",
    "data_frame['Date'] = pd.to_datetime(data_frame['Date'])\n",
    "print('Converted to DateTime type!')"
   ]
  },
  {
   "cell_type": "markdown",
   "id": "de225aba-997e-4d3e-8d9c-1774543f1014",
   "metadata": {},
   "source": [
    "7. Check that these changes have been applied to the DataFrame"
   ]
  },
  {
   "cell_type": "code",
   "execution_count": 64,
   "id": "bde46764-06cb-4f74-958d-b26769bd768d",
   "metadata": {},
   "outputs": [
    {
     "name": "stdout",
     "output_type": "stream",
     "text": [
      "The type is...  The correct type!\n"
     ]
    }
   ],
   "source": [
    "print(\"The type is... \", 'The correct type!' if data_frame['Date'].dtype == 'datetime64[ns]' else 'Well that\\'s not good!')"
   ]
  }
 ],
 "metadata": {
  "kernelspec": {
   "display_name": "Python 3 (ipykernel)",
   "language": "python",
   "name": "python3"
  },
  "language_info": {
   "codemirror_mode": {
    "name": "ipython",
    "version": 3
   },
   "file_extension": ".py",
   "mimetype": "text/x-python",
   "name": "python",
   "nbconvert_exporter": "python",
   "pygments_lexer": "ipython3",
   "version": "3.9.13"
  }
 },
 "nbformat": 4,
 "nbformat_minor": 5
}
