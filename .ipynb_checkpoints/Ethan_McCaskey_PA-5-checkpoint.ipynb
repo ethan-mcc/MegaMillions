{
 "cells": [
  {
   "cell_type": "code",
   "execution_count": null,
   "id": "0915e0f9-308a-49e8-9ad5-40801f2d51b0",
   "metadata": {},
   "outputs": [],
   "source": [
    "Project Assignment 5 - Ethan McCaskey"
   ]
  },
  {
   "cell_type": "markdown",
   "id": "6485a0e0-e280-406d-937a-57d801ec20d3",
   "metadata": {},
   "source": [
    "1. Read the data from the CSV file into the a DataFrame"
   ]
  },
  {
   "cell_type": "code",
   "execution_count": 8,
   "id": "0c8fd58e-a78b-4451-92ef-154ca1a23614",
   "metadata": {},
   "outputs": [],
   "source": [
    "import pandas as pd\n",
    "\n",
    "file = 'mega-millions.csv'\n",
    "\n",
    "data_frame = pd.read_csv(file)"
   ]
  },
  {
   "cell_type": "markdown",
   "id": "4c9ca96e-a4c9-4c75-b87f-0e6671e862ad",
   "metadata": {},
   "source": [
    "2. Display the first five rows of data"
   ]
  },
  {
   "cell_type": "code",
   "execution_count": 9,
   "id": "10d12e87-19e8-45c9-a2ed-3db13bee0a40",
   "metadata": {},
   "outputs": [
    {
     "data": {
      "text/html": [
       "<div>\n",
       "<style scoped>\n",
       "    .dataframe tbody tr th:only-of-type {\n",
       "        vertical-align: middle;\n",
       "    }\n",
       "\n",
       "    .dataframe tbody tr th {\n",
       "        vertical-align: top;\n",
       "    }\n",
       "\n",
       "    .dataframe thead th {\n",
       "        text-align: right;\n",
       "    }\n",
       "</style>\n",
       "<table border=\"1\" class=\"dataframe\">\n",
       "  <thead>\n",
       "    <tr style=\"text-align: right;\">\n",
       "      <th></th>\n",
       "      <th>Draw Date</th>\n",
       "      <th>Winning Numbers</th>\n",
       "      <th>Mega Ball</th>\n",
       "      <th>Multiplier</th>\n",
       "    </tr>\n",
       "  </thead>\n",
       "  <tbody>\n",
       "    <tr>\n",
       "      <th>0</th>\n",
       "      <td>09/25/2020</td>\n",
       "      <td>20 36 37 48 67</td>\n",
       "      <td>16</td>\n",
       "      <td>2.0</td>\n",
       "    </tr>\n",
       "    <tr>\n",
       "      <th>1</th>\n",
       "      <td>09/29/2020</td>\n",
       "      <td>14 39 43 44 67</td>\n",
       "      <td>19</td>\n",
       "      <td>3.0</td>\n",
       "    </tr>\n",
       "    <tr>\n",
       "      <th>2</th>\n",
       "      <td>10/02/2020</td>\n",
       "      <td>09 38 47 49 68</td>\n",
       "      <td>25</td>\n",
       "      <td>2.0</td>\n",
       "    </tr>\n",
       "    <tr>\n",
       "      <th>3</th>\n",
       "      <td>10/06/2020</td>\n",
       "      <td>15 16 18 39 59</td>\n",
       "      <td>17</td>\n",
       "      <td>3.0</td>\n",
       "    </tr>\n",
       "    <tr>\n",
       "      <th>4</th>\n",
       "      <td>10/09/2020</td>\n",
       "      <td>05 11 25 27 64</td>\n",
       "      <td>13</td>\n",
       "      <td>2.0</td>\n",
       "    </tr>\n",
       "  </tbody>\n",
       "</table>\n",
       "</div>"
      ],
      "text/plain": [
       "    Draw Date Winning Numbers  Mega Ball  Multiplier\n",
       "0  09/25/2020  20 36 37 48 67         16         2.0\n",
       "1  09/29/2020  14 39 43 44 67         19         3.0\n",
       "2  10/02/2020  09 38 47 49 68         25         2.0\n",
       "3  10/06/2020  15 16 18 39 59         17         3.0\n",
       "4  10/09/2020  05 11 25 27 64         13         2.0"
      ]
     },
     "execution_count": 9,
     "metadata": {},
     "output_type": "execute_result"
    }
   ],
   "source": [
    "data_frame.head()"
   ]
  },
  {
   "cell_type": "markdown",
   "id": "d3074897-09aa-412c-82bf-bc041ef6e62e",
   "metadata": {},
   "source": [
    "3. Display information about each of the columns"
   ]
  },
  {
   "cell_type": "code",
   "execution_count": 10,
   "id": "0a18ff30-3263-44c7-b5cf-6896540bd202",
   "metadata": {},
   "outputs": [
    {
     "name": "stdout",
     "output_type": "stream",
     "text": [
      "<class 'pandas.core.frame.DataFrame'>\n",
      "RangeIndex: 2218 entries, 0 to 2217\n",
      "Data columns (total 4 columns):\n",
      " #   Column           Non-Null Count  Dtype  \n",
      "---  ------           --------------  -----  \n",
      " 0   Draw Date        2218 non-null   object \n",
      " 1   Winning Numbers  2218 non-null   object \n",
      " 2   Mega Ball        2218 non-null   int64  \n",
      " 3   Multiplier       1315 non-null   float64\n",
      "dtypes: float64(1), int64(1), object(2)\n",
      "memory usage: 69.4+ KB\n"
     ]
    }
   ],
   "source": [
    "df.info()"
   ]
  },
  {
   "cell_type": "markdown",
   "id": "350db77a-48e7-455e-bbf9-e50696823363",
   "metadata": {},
   "source": [
    "4. Why did you choose the downloaded dataset"
   ]
  },
  {
   "cell_type": "markdown",
   "id": "92281cfe-2a40-4a96-b9a7-3c1df512e618",
   "metadata": {},
   "source": [
    "The reason I chose this dataset is because this what I'm doing for my honors contract. Now, I will say I have not directory used this dataset as of now. I have been activity working on understanding quantive analysis in-terms of the stock market. I am learning that as there is way more information out a there on that topic, and I want to understand the basics, then step into the training models on the the Mega Millions dataset with background knowledge, which I am about to do. \n",
    "\n",
    "I also got some fancy CUDA accelerated ML working, I don't if you have ever messed with CuPy or CuML but it was not fun to setup on Windows. \n",
    "Windows (Docker Desktop) <-> WSL2 Ubuntu -> JupyterLab. I actually need to send you an Email for my honors contract on an offical update, but there you go thats part of it haha. "
   ]
  }
 ],
 "metadata": {
  "kernelspec": {
   "display_name": "Python 3 (ipykernel)",
   "language": "python",
   "name": "python3"
  },
  "language_info": {
   "codemirror_mode": {
    "name": "ipython",
    "version": 3
   },
   "file_extension": ".py",
   "mimetype": "text/x-python",
   "name": "python",
   "nbconvert_exporter": "python",
   "pygments_lexer": "ipython3",
   "version": "3.9.13"
  }
 },
 "nbformat": 4,
 "nbformat_minor": 5
}
