{
 "cells": [
  {
   "cell_type": "code",
   "execution_count": 36,
   "id": "6389d3a2-2420-456d-ad32-79ccba30c456",
   "metadata": {
    "tags": []
   },
   "outputs": [
    {
     "name": "stdout",
     "output_type": "stream",
     "text": [
      "Predictions for Run 1:\n",
      "[ 9 24 29 45 62] : 20 : 3x\n",
      "Predictions for Run 2:\n",
      "[ 9 24 29 45 62] : 20 : 3x\n",
      "Predictions for Run 3:\n",
      "[ 9 24 29 45 62] : 20 : 3x\n",
      "Predictions for Run 4:\n",
      "[ 9 24 29 45 62] : 20 : 3x\n",
      "Predictions for Run 5:\n",
      "[ 9 24 29 45 62] : 20 : 3x\n",
      "Predictions for Run 6:\n",
      "[ 9 24 29 45 62] : 20 : 3x\n",
      "Predictions for Run 7:\n",
      "[ 9 24 29 45 62] : 20 : 3x\n",
      "Predictions for Run 8:\n",
      "[ 9 24 29 45 62] : 20 : 3x\n",
      "Predictions for Run 9:\n",
      "[ 9 24 29 45 62] : 20 : 3x\n",
      "Predictions for Run 10:\n",
      "[ 9 24 29 45 62] : 20 : 3x\n"
     ]
    }
   ],
   "source": [
    "import pandas as pd\n",
    "import numpy as np\n",
    "import joblib\n",
    "from datetime import datetime\n",
    "\n",
    "# Load the saved Mega Millions model\n",
    "mega_millions_model = joblib.load('MegaMillions_Model.pkl')\n",
    "\n",
    "# Provided date and numbers\n",
    "provided_date = \"2023-11-21\"\n",
    "provided_numbers = [17, 22, 25, 30, 38]\n",
    "provided_mega_ball = 24\n",
    "provided_multiplier = 4\n",
    "\n",
    "# Define the number of runs\n",
    "num_runs = 10  # Change this to the desired number of runs\n",
    "\n",
    "for run in range(1, num_runs + 1):\n",
    "    # Process provided date\n",
    "    try:\n",
    "        date = datetime.strptime(provided_date, \"%Y-%m-%d\")\n",
    "    except ValueError:\n",
    "        print(\"Please enter a valid date in the format YYYY-MM-DD.\")\n",
    "        exit()\n",
    "\n",
    "    # Prepare input data for prediction\n",
    "    num_guesses = 1  # Only one set of numbers provided\n",
    "    day = date.day\n",
    "    month = date.month\n",
    "    year = date.year\n",
    "\n",
    "    input_data = pd.DataFrame({\n",
    "        'Day': [day] * num_guesses,\n",
    "        'Month': [month] * num_guesses,\n",
    "        'Year': [year] * num_guesses\n",
    "    })\n",
    "\n",
    "    # Make predictions using the Mega Millions model\n",
    "    predictions = mega_millions_model.predict(input_data).round().astype(int)[0]\n",
    "\n",
    "    # Extract numbers and Mega Ball\n",
    "    numbers = predictions[:-2]\n",
    "    mega_ball = predictions[-2] \n",
    "    multipler = predictions[-1] \n",
    "\n",
    "    # Display predictions for this run\n",
    "    print(f\"Predictions for Run {run}:\")\n",
    "    print(f\"{numbers} : {mega_ball} : {multipler}x\")\n"
   ]
  },
  {
   "cell_type": "code",
   "execution_count": null,
   "id": "9c30d9e8-b887-4be8-b171-c2a78ea1b4a5",
   "metadata": {},
   "outputs": [],
   "source": []
  }
 ],
 "metadata": {
  "kernelspec": {
   "display_name": "Python 3 (ipykernel)",
   "language": "python",
   "name": "python3"
  },
  "language_info": {
   "codemirror_mode": {
    "name": "ipython",
    "version": 3
   },
   "file_extension": ".py",
   "mimetype": "text/x-python",
   "name": "python",
   "nbconvert_exporter": "python",
   "pygments_lexer": "ipython3",
   "version": "3.10.11"
  }
 },
 "nbformat": 4,
 "nbformat_minor": 5
}
